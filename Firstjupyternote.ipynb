{
 "cells": [
  {
   "cell_type": "markdown",
   "id": "4f00e20e-1056-4ca0-9624-bfdbff4860c7",
   "metadata": {},
   "source": [
    "# My Jupyter Notebook on IBM Watson Studio"
   ]
  },
  {
   "cell_type": "markdown",
   "id": "62b28840-1489-43ea-81c3-67762057bff5",
   "metadata": {},
   "source": [
    "**liubaichuan**\n",
    "businessman"
   ]
  },
  {
   "cell_type": "markdown",
   "id": "7cd60c09-5fe6-41b4-81e3-83c54e6e11e7",
   "metadata": {},
   "source": [
    "I'm interested in Data Science because I wanna analyse business data"
   ]
  },
  {
   "cell_type": "markdown",
   "id": "b49ea94f-b944-4e57-bdff-60c4e6ae234f",
   "metadata": {},
   "source": [
    "### Do some basic calculation"
   ]
  },
  {
   "cell_type": "code",
   "execution_count": 8,
   "id": "4c067185-d55c-43ae-aeed-e6b0fbb2ae0b",
   "metadata": {},
   "outputs": [
    {
     "name": "stdout",
     "output_type": "stream",
     "text": [
      "7\n"
     ]
    }
   ],
   "source": [
    "a=1\n",
    "b=2\n",
    "c=40\n",
    "print(a+b*3)"
   ]
  },
  {
   "cell_type": "markdown",
   "id": "dc37f239-be29-4d5e-b591-7f5a8b40ba8f",
   "metadata": {},
   "source": [
    "- - -\n",
    "<li>list 1</li>\n",
    "<li>list 2</li>\n",
    "<li>list 3</li>\n",
    "<li>list 4</li>\n",
    "<li>list 5</li>\n",
    "\n",
    "- - -\n",
    "\n",
    "<table border =\"1\">\n",
    "  <tr>\n",
    "    <td>row 1, cell 1</td>\n",
    "    <td>row 1, cell 2</td>\n",
    "  </tr>\n",
    "  <tr>\n",
    "    <td>row 2, cell 1</td>\n",
    "    <ta>row 2, cell 2</td>\n",
    "  </tr>\n",
    "</table>\n",
    "\n",
    "- - -\n",
    "\n",
    "<hr><a href-\"https://google.com/\">Google</a></h1>"
   ]
  }
 ],
 "metadata": {
  "kernelspec": {
   "display_name": "Python 3 (ipykernel)",
   "language": "python",
   "name": "python3"
  },
  "language_info": {
   "codemirror_mode": {
    "name": "ipython",
    "version": 3
   },
   "file_extension": ".py",
   "mimetype": "text/x-python",
   "name": "python",
   "nbconvert_exporter": "python",
   "pygments_lexer": "ipython3",
   "version": "3.9.12"
  }
 },
 "nbformat": 4,
 "nbformat_minor": 5
}
